{
 "cells": [
  {
   "cell_type": "markdown",
   "id": "db501d46-1baf-4b6f-bb39-1837eccca0d5",
   "metadata": {},
   "source": [
    "# Вариант 3\n",
    "## Задание 1\n",
    "Предположите с каким вероятностным законом распределен суммарный балл за экзамены. С помощью статистического теста подвержите/опровергните это предположение (первый тест - критерий согласия Колмогорова, если распределение абсолютно непрерывное, либо критерий согласия Пирсона хи-квадрат, если распределение дискретное)."
   ]
  },
  {
   "cell_type": "markdown",
   "id": "672c9064-bf41-4b79-88af-40d49a207543",
   "metadata": {},
   "source": [
    "### Формулировка гипотез\n",
    "- $H_0$: Суммарный балл соответствует нормальному распредению\n",
    "- $H_1$: Суммарный балл не соответствует нормальному распределению"
   ]
  },
  {
   "cell_type": "markdown",
   "id": "83e56b49-5d0b-4bb9-ae5a-4e76a0b894f0",
   "metadata": {},
   "source": [
    "### Расчет параметров распределения\n",
    "- Для начала нужно просуммировать оценки за экзамены и записать их в отдельный столбец\n",
    "- Затем вычислим $\\mu$ (среднее): $\\mu = \\frac{1}{n} \\sum_{i=1}^{n} x_i$\n",
    "- Затем вычислим стандартное отклонение: $\\sigma \\sqrt{\\frac{1}{n-1} \\sum_{i=1}^n (x_i - \\mu)^2}$"
   ]
  },
  {
   "cell_type": "code",
   "execution_count": 2,
   "id": "1277bc28-5b0c-4d90-a536-084aae7a231e",
   "metadata": {},
   "outputs": [
    {
     "name": "stdout",
     "output_type": "stream",
     "text": [
      "Выборочное среднее:  202.404\n",
      "Стандартное отклонение:  45.47375778013784\n"
     ]
    }
   ],
   "source": [
    "from scipy.stats import kstest, norm\n",
    "import pandas as pd\n",
    "\n",
    "data = pd.read_csv(\"exams_dataset.csv\")\n",
    "data['total_score'] = data['math score'] + data['reading score'] + data['writing score']\n",
    "total_score = data['total_score']\n",
    "\n",
    "mu = total_score.mean()\n",
    "sigma = total_score.std()\n",
    "\n",
    "print(\"Выборочное среднее: \", mu)\n",
    "print(\"Стандартное отклонение: \", sigma)"
   ]
  },
  {
   "cell_type": "markdown",
   "id": "f4c1acb5-f054-473d-9fd4-a12ddf590b79",
   "metadata": {},
   "source": [
    "### Какое у нас распредение абсолютно непрерывное или дискретное?\n",
    "У нас дискретное распределение, так как у нас сумма баллов за экзамен может принимать значения 0-300, при чем значения могут быть только целыми числами, поэтому распределение у нас дискретное, а следовательно, мы должны использовать критерий согласия Пирсона хи-квадрат\n",
    "\n",
    "Чтобы построить статистику, разобьем ось на непересекающиеся отрезки (аналогично тому, как строим гистограмму):\n",
    "$$- \\infty < a_0 < a_1 < ... < a_r < \\infty $$\n",
    "\n",
    "Посмотрим, как отличается гистограмма от теоритического распределения. Пусть $p_i = \\mathbb{P}(a_{i-1}, a_i]$. А $n_i$ - число значений выборки на том же отрезке. Рассмотрим статистику: $$ X^2 = \\sum_{i=1}^r \\frac{(n_i - mp_i)^2}{mp_i}$$ \n",
    "\n",
    "Если гипотеза верна, то статистика распределена согласно распределению $X^2(r-1)$. При известном квантиле $h_{1-\\alpha}$ распредения $X^2$ критическая область будет выглядеть так: $$(h_{1 - \\alpha}, \\infty) $$\n",
    "\n",
    "Если известно семейство распределений, но неизвестны параметры, то параметры можно оценить согласно методу максимальному правдоподобия. Правда, статистика будет иметь другое число степеней свободы: $X^2 \\sim X^2(r-l-1)$, где l - число оцениваемых параметров."
   ]
  },
  {
   "cell_type": "markdown",
   "id": "85580de6-e679-4d15-b2e3-b87fb3224751",
   "metadata": {},
   "source": [
    "### Разобьем данные на интервалы шириной 10 баллов:"
   ]
  },
  {
   "cell_type": "code",
   "execution_count": 2,
   "id": "4812af9d-ccb0-4d7a-9959-da7823a9e59e",
   "metadata": {},
   "outputs": [],
   "source": [
    "import numpy as np\n",
    "\n",
    "min_score = data[\"total_score\"].min()\n",
    "max_score = data[\"total_score\"].max()\n",
    "bins = np.arange(min_score, max_score + 10, 10)\n",
    "observed, _ = np.histogram(data[\"total_score\"], bins=bins)"
   ]
  },
  {
   "cell_type": "markdown",
   "id": "46be3ef3-0516-4004-9995-66f87c2de161",
   "metadata": {},
   "source": [
    "### Расчитаем вероятности попадания в интервалы"
   ]
  },
  {
   "cell_type": "code",
   "execution_count": 3,
   "id": "475d6116-eee9-43d7-a402-fbcfa801b38f",
   "metadata": {},
   "outputs": [],
   "source": [
    "expected = []\n",
    "for i in range(len(bins) - 1):\n",
    "    lower = bins[i]\n",
    "    upper = bins[i + 1]\n",
    "    prob = norm.cdf(upper, loc=mu, scale=sigma) - norm.cdf(lower, loc=mu, scale=sigma)\n",
    "    expected.append(prob * len(data))"
   ]
  },
  {
   "cell_type": "markdown",
   "id": "9967705b-d78f-42ca-837e-8ea12f267369",
   "metadata": {},
   "source": [
    "### Расчет статистики хи-квадрат"
   ]
  },
  {
   "cell_type": "code",
   "execution_count": 4,
   "id": "92548762-6efe-4ccd-93fa-e63db5815345",
   "metadata": {},
   "outputs": [
    {
     "name": "stdout",
     "output_type": "stream",
     "text": [
      "Статистика хи-квадрат: 29.79790075418849\n"
     ]
    }
   ],
   "source": [
    "observed = np.array(observed)\n",
    "expected = np.array(expected)\n",
    "valid_indices = expected >= 5\n",
    "\n",
    "observed_filtered = observed[valid_indices]\n",
    "expected_filtered = expected[valid_indices]\n",
    "\n",
    "total_observed = observed_filtered.sum()\n",
    "total_expected = expected_filtered.sum()\n",
    "expected_filtered = expected_filtered * (total_observed / total_expected)\n",
    "\n",
    "\n",
    "chi_sq = np.sum((observed_filtered - expected_filtered) ** 2 / expected_filtered)\n",
    "print(f\"Статистика хи-квадрат: {chi_sq}\")"
   ]
  },
  {
   "cell_type": "markdown",
   "id": "1a99e712-e28d-49e5-a39a-0e4b513d854a",
   "metadata": {},
   "source": [
    "### Определение степеней свободы\n",
    "$r - l - 1  =  r - 3$, где l = 2 - количество оцененных параметров $(\\mu, \\sigma)$ "
   ]
  },
  {
   "cell_type": "markdown",
   "id": "35ebbb05-8d99-4938-b07e-c1ec79b44726",
   "metadata": {},
   "source": [
    "### Сравнение с критическим значением\n",
    "Для $\\alpha = 0.05$ и df = 18, критическое значение $X_{крит}^2 =  28.9$ "
   ]
  },
  {
   "cell_type": "code",
   "execution_count": 5,
   "id": "63441511-21bb-4b82-a099-32142c2c0f98",
   "metadata": {},
   "outputs": [
    {
     "name": "stdout",
     "output_type": "stream",
     "text": [
      "Критическое значение (α=0.05, df=18): 28.869\n"
     ]
    }
   ],
   "source": [
    "from scipy.stats import chi2\n",
    "alpha = 0.05\n",
    "df =  len(expected_filtered) - 3\n",
    "\n",
    "critical_value = chi2.ppf(1 - alpha, df)\n",
    "print(f\"Критическое значение (α=0.05, df={df}): {critical_value:.3f}\")"
   ]
  },
  {
   "cell_type": "code",
   "execution_count": 6,
   "id": "b1d55462-90b2-4976-b935-2d8b0a1d94e7",
   "metadata": {},
   "outputs": [
    {
     "name": "stdout",
     "output_type": "stream",
     "text": [
      "Статистика хи-квадрат: 29.798\n",
      "P-value: 0.073\n"
     ]
    }
   ],
   "source": [
    "from scipy.stats import chisquare\n",
    "chi_stat, p_value = chisquare(observed_filtered, f_exp=expected_filtered)\n",
    "print(f\"Статистика хи-квадрат: {chi_stat:.3f}\")\n",
    "print(f\"P-value: {p_value:.3f}\")"
   ]
  },
  {
   "cell_type": "code",
   "execution_count": 7,
   "id": "8a0d404c-bb85-42a0-a654-f3af249e0683",
   "metadata": {},
   "outputs": [
    {
     "data": {
      "image/png": "[encoded data removed]",
      "text/plain": [
       "<Figure size 1000x600 with 1 Axes>"
      ]
     },
     "metadata": {},
     "output_type": "display_data"
    }
   ],
   "source": [
    "import pandas as pd\n",
    "import matplotlib.pyplot as plt\n",
    "import seaborn as sns\n",
    "import numpy as np\n",
    "\n",
    "# Загрузка данных\n",
    "data = pd.read_csv(\"exams_dataset.csv\")\n",
    "\n",
    "if \"total_score\" not in data.columns:\n",
    "    data['total_score'] = data['math score'] + data['reading score'] + data['writing score']\n",
    "\n",
    "sns.set_theme(style=\"whitegrid\")\n",
    "plt.figure(figsize=(10, 6))\n",
    "\n",
    "ax = sns.histplot(data[\"total_score\"], bins=30, kde=True, color=\"blue\", stat=\"density\", alpha=0.6)\n",
    "\n",
    "# Добавление нормального распределения (если нужно)\n",
    "mu = data[\"total_score\"].mean()\n",
    "sigma = data[\"total_score\"].std()\n",
    "x = np.linspace(data[\"total_score\"].min(), data[\"total_score\"].max(), 100)\n",
    "y = (1 / (sigma * np.sqrt(2 * np.pi))) * np.exp(-0.5 * ((x - mu) / sigma) ** 2)\n",
    "plt.plot(x, y, \"r--\", label=f\"N(μ={mu:.1f}, σ={sigma:.1f})\")\n",
    "\n",
    "plt.title(\"Распределение суммарного балла за экзамены\")\n",
    "plt.xlabel(\"Суммарный балл\")\n",
    "plt.ylabel(\"Плотность\")\n",
    "plt.legend()\n",
    "\n",
    "plt.show()"
   ]
  },
  {
   "cell_type": "markdown",
   "id": "313e333a-e230-4d99-ad4f-dfc3dd03f1f2",
   "metadata": {},
   "source": [
    "### Ответ на задание №1\n",
    "- Статистика хи-квадрат (29.798) > Критическое значение (28.869). Следовательно, отвергаем нулевую гипотезу $H_0$. Распределение суммарного балла не соответствует номальному распределению"
   ]
  },
  {
   "cell_type": "code",
   "execution_count": 8,
   "id": "7afa4de3-cba1-47fe-93bf-e6e403cf0cac",
   "metadata": {},
   "outputs": [
    {
     "name": "stdout",
     "output_type": "stream",
     "text": [
      "1000\n",
      "200\n",
      "Статистика Шапиро-Уилка: 0.994\n",
      "P-value: 0.00040\n",
      "Отвергаем H₀: Распределение НЕ нормальное (p < 0.05).\n"
     ]
    },
    {
     "data": {
      "image/png": "[encoded data removed]",
      "text/plain": [
       "<Figure size 1200x500 with 1 Axes>"
      ]
     },
     "metadata": {},
     "output_type": "display_data"
    }
   ],
   "source": [
    "import pandas as pd\n",
    "import numpy as np\n",
    "from scipy.stats import shapiro\n",
    "import matplotlib.pyplot as plt\n",
    "import seaborn as sns\n",
    "\n",
    "# Загрузка данных\n",
    "data = pd.read_csv(\"exams_dataset.csv\")\n",
    "\n",
    "# Проверка нормальности с помощью критерия Шапиро-Уилка\n",
    "shapiro_stat, shapiro_p = shapiro(total_score)\n",
    "print(len(total_score))\n",
    "print(len(set(total_score)))\n",
    "\n",
    "# Визуализация\n",
    "plt.figure(figsize=(12, 5))\n",
    "\n",
    "# Гистограмма с нормальной кривой\n",
    "plt.subplot(1, 2, 1)\n",
    "sns.histplot(total_score, kde=True, stat=\"density\", color=\"blue\", alpha=0.6)\n",
    "mu, sigma = total_score.mean(), total_score.std()\n",
    "x = np.linspace(total_score.min(), total_score.max(), 100)\n",
    "y = (1 / (sigma * np.sqrt(2 * np.pi))) * np.exp(-0.5 * ((x - mu) / sigma) ** 2)\n",
    "plt.plot(x, y, \"r--\", label=f\"N(μ={mu:.1f}, σ={sigma:.1f})\")\n",
    "plt.title(\"Гистограмма суммарного балла\")\n",
    "plt.legend()\n",
    "\n",
    "# Q-Q график\n",
    "\n",
    "# Вывод результатов\n",
    "print(f\"Статистика Шапиро-Уилка: {shapiro_stat:.3f}\")\n",
    "print(f\"P-value: {shapiro_p:.5f}\")\n",
    "\n",
    "alpha = 0.05\n",
    "if shapiro_p < alpha:\n",
    "    print(f\"Отвергаем H₀: Распределение НЕ нормальное (p < {alpha}).\")\n",
    "else:\n",
    "    print(f\"Нет оснований отвергать H₀: Распределение нормальное (p ≥ {alpha}).\")"
   ]
  },
  {
   "cell_type": "markdown",
   "id": "1b8bb355-e57d-4ef1-89d8-2221c8facc60",
   "metadata": {},
   "source": [
    "## Задание 2\n",
    "Верно ли, что распределение балла по математике и чтению одинаково?"
   ]
  },
  {
   "cell_type": "markdown",
   "id": "ddca95b1-943b-46f9-a146-0e77d62cf12b",
   "metadata": {},
   "source": [
    "### Формулировка гипотез\n",
    "- $H_0$: Распределение баллов по математике и чтению одинаковы\n",
    "- $H_1$: Распределение баллов по математике и чтению различны\n"
   ]
  },
  {
   "cell_type": "markdown",
   "id": "8e5405ab-d079-4673-b0d5-ccb425397a85",
   "metadata": {},
   "source": [
    "### Критерий Колмогорова - Смирнова\n",
    "Статистика теста - наибольшая возможная разница между двумя функциями распределения:\n",
    "$$D = \\sup_{x \\in \\mathbb{R}} |F_{мат}(x) - F_{чт}(x)|$$\n",
    "\n",
    "При больших размерах выборок (m,n > 50), статистика распределена согласно протабилированному распределению Колмогорова. Критическая область следующая: \n",
    "$$(k_{1 - \\alpha}, \\infty)$$\n",
    "\n",
    "Здесь $k_{\\alpha}$ - квантиль распределения Колмогорова.\n",
    "\n",
    "Нам нужно проверить гипотезу однородности. Для гипотезы однородности статистика считается таким образом:\n",
    "$$D_X(X_m) = \\max_{1 \\leq  i \\leq  m} [\\frac{i}{m} - \\overline{F}_{мат}(X_{(i)}),  \\overline{F}_{мат}(X_{(i)}) - \\frac{i-1}{m}]$$\n",
    "$$D_Y(Y_n) = \\max_{1 \\leq  j \\leq  n} [\\frac{i}{n} - \\overline{F}_{чт}(Y_{(j)}),  \\overline{F}_{чт}(Y_{(j)}) - \\frac{j-1}{n}]$$\n",
    "$$D = \\max(D_x, D_y)$$\n",
    "\n",
    "Здесь $\\overline{F}_{мат}$ и $\\overline{F}_{чт}$ - эмпирические функции распределения соответвующих выборок."
   ]
  },
  {
   "cell_type": "code",
   "execution_count": 11,
   "id": "b2678cb5-a024-4fe4-a98e-db2dbd050e52",
   "metadata": {},
   "outputs": [
    {
     "name": "stdout",
     "output_type": "stream",
     "text": [
      "Chi-squared statistic: 24.832\n",
      "P-value: 0.0032\n"
     ]
    }
   ],
   "source": [
    "import numpy as np\n",
    "import pandas as pd\n",
    "from scipy.stats import chi2_contingency\n",
    "data = pd.read_csv(\"exams_dataset.csv\")\n",
    "math = data['math score']\n",
    "reading =  data['reading score'] \n",
    "combined = np.concatenate([math, reading])\n",
    "\n",
    "num_bins = 10 \n",
    "bin_edges = np.linspace(combined.min(), combined.max(), num=num_bins+1)\n",
    "\n",
    "math_cat, _ = np.histogram(math, bins=bin_edges)\n",
    "reading_cat, _ = np.histogram(reading, bins=bin_edges)\n",
    "    \n",
    "contingency_table = np.array([math_cat, reading_cat])\n",
    "\n",
    "chi2, p_value, dof, expected = chi2_contingency(contingency_table, correction=False)\n",
    "\n",
    "print(f\"Chi-squared statistic: {chi2:.3f}\")\n",
    "print(f\"P-value: {p_value:.4f}\")\n",
    "#Критическое значени - 16.9"
   ]
  },
  {
   "cell_type": "markdown",
   "id": "89870e2d-5d66-4ae3-a81e-e9405f20f8b2",
   "metadata": {},
   "source": [
    "### Определение критического значения\n",
    "Критическое значение $D_{крит}$ для уровня значимости $\\alpha = 0.05$ рассчитывается по формуле:\n",
    "$$D_{крит} = c(a)\\sqrt{\\frac{n + m}{n * m}},$$ где c(a) = 1.36 для $\\alpha = 0.05$"
   ]
  },
  {
   "cell_type": "code",
   "execution_count": 12,
   "id": "82e406d9-0549-4818-b259-ba9e685f49e3",
   "metadata": {},
   "outputs": [
    {
     "ename": "NameError",
     "evalue": "name 'n' is not defined",
     "output_type": "error",
     "traceback": [
      "\u001b[31m---------------------------------------------------------------------------\u001b[39m",
      "\u001b[31mNameError\u001b[39m                                 Traceback (most recent call last)",
      "\u001b[36mCell\u001b[39m\u001b[36m \u001b[39m\u001b[32mIn[12]\u001b[39m\u001b[32m, line 2\u001b[39m\n\u001b[32m      1\u001b[39m \u001b[38;5;28;01mfrom\u001b[39;00m\u001b[38;5;250m \u001b[39m\u001b[34;01mmath\u001b[39;00m\u001b[38;5;250m \u001b[39m\u001b[38;5;28;01mimport\u001b[39;00m sqrt\n\u001b[32m----> \u001b[39m\u001b[32m2\u001b[39m D_crit = \u001b[32m1.36\u001b[39m * sqrt((\u001b[43mn\u001b[49m + m)/(n*m))\n\u001b[32m      4\u001b[39m \u001b[38;5;28;01mimport\u001b[39;00m\u001b[38;5;250m \u001b[39m\u001b[34;01mmatplotlib\u001b[39;00m\u001b[34;01m.\u001b[39;00m\u001b[34;01mpyplot\u001b[39;00m\u001b[38;5;250m \u001b[39m\u001b[38;5;28;01mas\u001b[39;00m\u001b[38;5;250m \u001b[39m\u001b[34;01mplt\u001b[39;00m\n\u001b[32m      5\u001b[39m \u001b[38;5;28;01mimport\u001b[39;00m\u001b[38;5;250m \u001b[39m\u001b[34;01mnumpy\u001b[39;00m\u001b[38;5;250m \u001b[39m\u001b[38;5;28;01mas\u001b[39;00m\u001b[38;5;250m \u001b[39m\u001b[34;01mnp\u001b[39;00m\n",
      "\u001b[31mNameError\u001b[39m: name 'n' is not defined"
     ]
    }
   ],
   "source": [
    "from math import sqrt\n",
    "D_crit = 1.36 * sqrt((n + m)/(n*m))\n",
    "\n",
    "import matplotlib.pyplot as plt\n",
    "import numpy as np\n",
    "\n",
    "# Пример данных\n",
    "math_scores = np.random.normal(75, 10, 50)\n",
    "reading_scores = np.random.normal(78, 8, 50)\n",
    "\n",
    "# Построение ECDF\n",
    "def ecdf(data):\n",
    "    x = np.sort(data)\n",
    "    y = np.arange(1, len(x)+1) / len(x)\n",
    "    return x, y\n",
    "\n",
    "x_math, y_math = ecdf(math_scores)\n",
    "x_reading, y_reading = ecdf(reading_scores)\n",
    "\n",
    "plt.figure(figsize=(10, 5))\n",
    "plt.plot(x_math, y_math, label=\"Математика\", marker=\".\", linestyle=\"none\")\n",
    "plt.plot(x_reading, y_reading, label=\"Чтение\", marker=\".\", linestyle=\"none\")\n",
    "plt.xlabel(\"Баллы\")\n",
    "plt.ylabel(\"ECDF\")\n",
    "plt.legend()\n",
    "plt.title(\"Эмпирические функции распределения баллов\")\n",
    "plt.show()"
   ]
  },
  {
   "cell_type": "code",
   "execution_count": 13,
   "id": "622a0e01-8cb1-4a9e-9f5b-bb4a889d51a4",
   "metadata": {},
   "outputs": [
    {
     "ename": "NameError",
     "evalue": "name 'D' is not defined",
     "output_type": "error",
     "traceback": [
      "\u001b[31m---------------------------------------------------------------------------\u001b[39m",
      "\u001b[31mNameError\u001b[39m                                 Traceback (most recent call last)",
      "\u001b[36mCell\u001b[39m\u001b[36m \u001b[39m\u001b[32mIn[13]\u001b[39m\u001b[32m, line 1\u001b[39m\n\u001b[32m----> \u001b[39m\u001b[32m1\u001b[39m \u001b[38;5;28mprint\u001b[39m(\u001b[33mf\u001b[39m\u001b[33m\"\u001b[39m\u001b[33mСтатистика критерия: \u001b[39m\u001b[38;5;132;01m{\u001b[39;00m\u001b[43mD\u001b[49m\u001b[38;5;132;01m}\u001b[39;00m\u001b[33m\"\u001b[39m)\n\u001b[32m      2\u001b[39m \u001b[38;5;28mprint\u001b[39m(\u001b[33mf\u001b[39m\u001b[33m\"\u001b[39m\u001b[33mКритическое значение: \u001b[39m\u001b[38;5;132;01m{\u001b[39;00mD_crit\u001b[38;5;132;01m}\u001b[39;00m\u001b[33m\"\u001b[39m)\n",
      "\u001b[31mNameError\u001b[39m: name 'D' is not defined"
     ]
    }
   ],
   "source": [
    "print(f\"Статистика критерия: {D}\")\n",
    "print(f\"Критическое значение: {D_crit}\")"
   ]
  },
  {
   "cell_type": "markdown",
   "id": "c7a87fee-5346-4f6e-90e8-03f2ab724bc8",
   "metadata": {},
   "source": [
    "### Ответ\n",
    "Поскольку D = 0.099 > D_crit = 0.608, отвергаем нулевую гипотезу $H_0$"
   ]
  },
  {
   "cell_type": "code",
   "execution_count": null,
   "id": "4caece76-b7b4-433d-8f62-368b5803e42d",
   "metadata": {},
   "outputs": [],
   "source": []
  },
  {
   "cell_type": "markdown",
   "id": "10914d5d-709b-4a0a-b69a-8e57b08b55b2",
   "metadata": {},
   "source": [
    "### Программный критерий $X^2$"
   ]
  },
  {
   "cell_type": "code",
   "execution_count": 14,
   "id": "5bc3d345-c6c7-42fb-992f-3794136c7318",
   "metadata": {},
   "outputs": [
    {
     "name": "stdout",
     "output_type": "stream",
     "text": [
      "Критическое значение (α=0.05): 83.675\n",
      "Статистика хи-квадрат: 1519.332\n",
      "P-value: 0.000\n",
      "Степени свободы: 64\n"
     ]
    }
   ],
   "source": [
    "import pandas as pd\n",
    "import numpy as np\n",
    "from scipy.stats import chi2_contingency\n",
    "\n",
    "# Загрузка данных\n",
    "data = pd.read_csv(\"exams_dataset.csv\")\n",
    "math = data[\"math score\"]\n",
    "reading = data[\"reading score\"]\n",
    "\n",
    "bins = np.arange(0, 101, 10)  # [0, 10, 20, ..., 100]\n",
    "labels = [f\"{i}-{i+9}\" for i in bins[:-1]]\n",
    "\n",
    "math_binned = pd.cut(math, bins=bins, labels=labels)\n",
    "reading_binned = pd.cut(reading, bins=bins, labels=labels)\n",
    "\n",
    "contingency_table = pd.crosstab(math_binned, reading_binned)\n",
    "contingency_table.loc[\"0-19\"] = contingency_table.loc[\"0-9\"] + contingency_table.loc[\"10-19\"]\n",
    "contingency_table = contingency_table.drop([\"0-9\", \"10-19\"])\n",
    "chi2_stat, p_value, dof, expected = chi2_contingency(contingency_table)\n",
    "from scipy.stats import chi2\n",
    "\n",
    "alpha = 0.05\n",
    "critical_value = chi2.ppf(1 - alpha, dof)\n",
    "print(f\"Критическое значение (α=0.05): {critical_value:.3f}\")\n",
    "\n",
    "print(f\"Статистика хи-квадрат: {chi2_stat:.3f}\")\n",
    "print(f\"P-value: {p_value:.3f}\")\n",
    "print(f\"Степени свободы: {dof}\")"
   ]
  },
  {
   "cell_type": "markdown",
   "id": "431e52af-106f-4aed-ae51-23357a552ff8",
   "metadata": {},
   "source": [
    "### Критерий $X^2$\n",
    "Подверждает критерий Колмогорова - Смирного. Данный критерий также отвергает нулевую гипотезу"
   ]
  },
  {
   "cell_type": "markdown",
   "id": "4a235734-787e-4361-b918-ece5101a662b",
   "metadata": {},
   "source": [
    "## Задание №3\n",
    "Верно ли, что прослушавшие подготовительные курсы лучше сдали экзамены?"
   ]
  },
  {
   "cell_type": "markdown",
   "id": "14d8dbcb-358c-4676-bed0-fc33f14ca2fd",
   "metadata": {},
   "source": [
    "### Формулировка гипотез\n",
    "- $H_0$: Нет корреляции между прохождением подготовительных курсов и баллами за экзамены (r = 0)\n",
    "- $H_1$: Существует положительная корреляция (r > 0).\n",
    "\n",
    "### Выбор коэффициента корреляции\n",
    "Используем коэффициент корреляции Пирсона, так как:\n",
    "- Одна переменная бинарная (курсы: 1 - прошел, 0 - не прошел)\n",
    "- Вторая переменная количественная (сумма баллов за экзамены)\n",
    "\n",
    "### Расчет коэффициента Пирсона\n",
    "Формула:\n",
    "$$r = \\frac{\\sum{(x_i - \\overline{x})(y_i - \\overline{y})}}{\\sqrt{\\sum{(x_i - \\overline{x})^2} \\sum{(y_i - \\overline{y})^2}}},$$\n",
    "где \n",
    "- $x_i$ - бинарная переменная (прохождение курсов)\n",
    "- $y_i$ - сумма баллов за экзамены\n",
    "\n",
    "### Используем t-тест для коэффициента Пирсона\n",
    "$$ t = \\frac{r \\sqrt{n - 2}}{\\sqrt{1 - r^2}},$$\n",
    "где n - количество студентов"
   ]
  },
  {
   "cell_type": "code",
   "execution_count": 15,
   "id": "16b86ef7-2e13-4b47-84a6-895f2c7150fa",
   "metadata": {},
   "outputs": [
    {
     "name": "stdout",
     "output_type": "stream",
     "text": [
      "Коэффициент Пирсона: 0.25924975442185866\n"
     ]
    },
    {
     "ename": "NameError",
     "evalue": "name 'sns' is not defined",
     "output_type": "error",
     "traceback": [
      "\u001b[31m---------------------------------------------------------------------------\u001b[39m",
      "\u001b[31mNameError\u001b[39m                                 Traceback (most recent call last)",
      "\u001b[36mCell\u001b[39m\u001b[36m \u001b[39m\u001b[32mIn[15]\u001b[39m\u001b[32m, line 24\u001b[39m\n\u001b[32m     21\u001b[39m r = (sum_1) / sqrt(sum_2 * sum_3)\n\u001b[32m     22\u001b[39m \u001b[38;5;28mprint\u001b[39m(\u001b[33mf\u001b[39m\u001b[33m\"\u001b[39m\u001b[33mКоэффициент Пирсона: \u001b[39m\u001b[38;5;132;01m{\u001b[39;00mr\u001b[38;5;132;01m}\u001b[39;00m\u001b[33m\"\u001b[39m)\n\u001b[32m---> \u001b[39m\u001b[32m24\u001b[39m \u001b[43msns\u001b[49m.boxplot(x=courses, y=total_score)\n\u001b[32m     25\u001b[39m plt.title(\u001b[33m\"\u001b[39m\u001b[33mРаспределение баллов по группам\u001b[39m\u001b[33m\"\u001b[39m)\n\u001b[32m     26\u001b[39m plt.xlabel(\u001b[33m\"\u001b[39m\u001b[33mКурсы\u001b[39m\u001b[33m\"\u001b[39m)\n",
      "\u001b[31mNameError\u001b[39m: name 'sns' is not defined"
     ]
    }
   ],
   "source": [
    "import pandas as pd\n",
    "from scipy.stats import pearsonr\n",
    "\n",
    "# Загрузка данных\n",
    "data = pd.read_csv(\"exams_dataset.csv\")\n",
    "courses = data[\"test preparation course\"].map({\"completed\": 1, \"none\": 0})\n",
    "data['total_score'] = data['math score'] + data['reading score'] + data['writing score']\n",
    "total_score = data['total_score']\n",
    "\n",
    "x_overline = np.mean(courses)\n",
    "y_overline = np.mean(total_score)\n",
    "\n",
    "sum_1 = 0\n",
    "sum_2 = 0\n",
    "sum_3 = 0\n",
    "for i in range(len(total_score)):\n",
    "    sum_1 += ((courses[i] - x_overline) *(total_score[i] - y_overline))\n",
    "    sum_2 += (courses[i] - x_overline)**2\n",
    "    sum_3 += (total_score[i] - y_overline)**2\n",
    "\n",
    "r = (sum_1) / sqrt(sum_2 * sum_3)\n",
    "print(f\"Коэффициент Пирсона: {r}\")\n",
    "\n",
    "sns.boxplot(x=courses, y=total_score)\n",
    "plt.title(\"Распределение баллов по группам\")\n",
    "plt.xlabel(\"Курсы\")\n",
    "plt.ylabel(\"Баллы\")\n",
    "plt.show()"
   ]
  },
  {
   "cell_type": "markdown",
   "id": "28cafb41-a736-4f41-a350-d69050627ea0",
   "metadata": {},
   "source": [
    "### Ответ\n",
    "Коэффициент Пирсона r = 0.26, следовательно у нас есть слабая положительная связь между переменными. Проверим это с помощью еще одного коэффициента корреляции. \n",
    "\n",
    "### Коэффициент Спирмена"
   ]
  },
  {
   "cell_type": "code",
   "execution_count": 16,
   "id": "9d9b9543-e8ce-4d2c-bb95-45601f0f1ecf",
   "metadata": {},
   "outputs": [
    {
     "name": "stdout",
     "output_type": "stream",
     "text": [
      "Коэффициент Спирмена: 0.251\n"
     ]
    }
   ],
   "source": [
    "from scipy.stats import spearmanr\n",
    "\n",
    "rho, p_value_spearman = spearmanr(courses, total_score)\n",
    "print(f\"Коэффициент Спирмена: {rho:.3f}\")"
   ]
  },
  {
   "cell_type": "markdown",
   "id": "7cb1610e-854c-4782-be98-86de334b9fcd",
   "metadata": {},
   "source": [
    "Как видим результат сошелся"
   ]
  },
  {
   "cell_type": "code",
   "execution_count": null,
   "id": "6b565f3b-e9bf-471d-bdcb-71f181303a29",
   "metadata": {},
   "outputs": [],
   "source": []
  },
  {
   "cell_type": "code",
   "execution_count": null,
   "id": "367c391f-374f-49b7-86b8-a8da2f3e31cf",
   "metadata": {},
   "outputs": [],
   "source": []
  },
  {
   "cell_type": "code",
   "execution_count": null,
   "id": "c12c1df4-7266-4224-94a1-693165544907",
   "metadata": {},
   "outputs": [],
   "source": []
  }
 ],
 "metadata": {
  "kernelspec": {
   "display_name": "Python 3 (ipykernel)",
   "language": "python",
   "name": "python3"
  },
  "language_info": {
   "codemirror_mode": {
    "name": "ipython",
    "version": 3
   },
   "file_extension": ".py",
   "mimetype": "text/x-python",
   "name": "python",
   "nbconvert_exporter": "python",
   "pygments_lexer": "ipython3",
   "version": "3.13.3"
  }
 },
 "nbformat": 4,
 "nbformat_minor": 5
}
