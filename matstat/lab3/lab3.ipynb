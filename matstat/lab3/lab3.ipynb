{
 "cells": [
  {
   "cell_type": "markdown",
   "id": "db501d46-1baf-4b6f-bb39-1837eccca0d5",
   "metadata": {},
   "source": [
    "# Вариант 3\n",
    "## Задание 1\n",
    "Предположите с каким вероятностным законом распределен суммарный балл за экзамены. С помощью статистического теста подвержите/опровергните это предположение (первый тест - критерий согласия Колмогорова, если распределение абсолютно непрерывное, либо критерий согласия Пирсона хи-квадрат, если распределение дискретное)."
   ]
  },
  {
   "cell_type": "markdown",
   "id": "672c9064-bf41-4b79-88af-40d49a207543",
   "metadata": {},
   "source": [
    "### Формулировка гипотез\n",
    "- $H_0$: Суммарный балл соответствует нормальному распредению\n",
    "- $H_1$: Суммарный балл не соответствует нормальному распределению"
   ]
  },
  {
   "cell_type": "markdown",
   "id": "83e56b49-5d0b-4bb9-ae5a-4e76a0b894f0",
   "metadata": {},
   "source": [
    "### Расчет параметров распределения\n",
    "- Для начала нужно просуммировать оценки за экзамены и записать их в отдельный столбец\n",
    "- Затем вычислим $\\mu$ (среднее): $\\mu = \\frac{1}{n} \\sum_{i=1}^{n} x_i$\n",
    "- Затем вычислим стандартное отклонение: $\\sigma \\sqrt{\\frac{1}{n-1} \\sum_{i=1}^n (x_i - \\mu)^2}$"
   ]
  },
  {
   "cell_type": "code",
   "execution_count": 5,
   "id": "1277bc28-5b0c-4d90-a536-084aae7a231e",
   "metadata": {},
   "outputs": [
    {
     "name": "stdout",
     "output_type": "stream",
     "text": [
      "Выборочное среднее:  202.404\n",
      "Стандартное отклонение:  45.47375778013784\n"
     ]
    }
   ],
   "source": [
    "from scipy.stats import kstest, norm\n",
    "import pandas as pd\n",
    "\n",
    "data = pd.read_csv(\"exams_dataset.csv\")\n",
    "data['total_score'] = data['math score'] + data['reading score'] + data['writing score']\n",
    "total_score = data['total_score']\n",
    "\n",
    "mu = total_score.mean()\n",
    "sigma = total_score.std()\n",
    "\n",
    "print(\"Выборочное среднее: \", mu)\n",
    "print(\"Стандартное отклонение: \", sigma)"
   ]
  },
  {
   "cell_type": "markdown",
   "id": "f4c1acb5-f054-473d-9fd4-a12ddf590b79",
   "metadata": {},
   "source": [
    "### Какое у нас распредение абсолютно непрерывное или дискретное?\n",
    "У нас дискретное распределение, так как у нас сумма баллов за экзамен может принимать значения 0-300, при чем значения могут быть только целыми числами, поэтому распределение у нас дискретное, а следовательно, мы должны использовать критерий согласия Пирсона хи-квадрат\n",
    "\n",
    "Чтобы построить статистику, разобьем ось на непересекающиеся отрезки (аналогично тому, как строим гистограмму):\n",
    "$$- \\infty < a_0 < a_1 < ... < a_r < \\infty $$\n",
    "\n",
    "Посмотрим, как отличается гистограмма от теоритического распределения. Пусть $p_i = \\mathbb{P}(a_{i-1}, a_i]$. А $n_i$ - число значений выборки на том же отрезке. Рассмотрим статистику: $$ X^2 = \\sum_{i=1}^r \\frac{(n_i - mp_i)^2}{mp_i}$$ \n",
    "\n",
    "Если гипотеза верна, то статистика распределена согласно распределению $X^2(r-1)$. При известном квантиле $h_{1-\\alpha}$ распредения $X^2$ критическая область будет выглядеть так: $$(h_{1 - \\alpha}, \\infty) $$\n",
    "\n",
    "Если известно семейство распределений, но неизвестны параметры, то параметры можно оценить согласно методу максимальному правдоподобия. Правда, статистика будет иметь другое число степеней свободы: $X^2 \\sim X^2(r-l-1)$, где l - число оцениваемых параметров."
   ]
  },
  {
   "cell_type": "markdown",
   "id": "85580de6-e679-4d15-b2e3-b87fb3224751",
   "metadata": {},
   "source": [
    "### Разобьем данные на интервалы шириной 10 баллов:"
   ]
  },
  {
   "cell_type": "code",
   "execution_count": 6,
   "id": "4812af9d-ccb0-4d7a-9959-da7823a9e59e",
   "metadata": {},
   "outputs": [],
   "source": [
    "import numpy as np\n",
    "\n",
    "min_score = data[\"total_score\"].min()\n",
    "max_score = data[\"total_score\"].max()\n",
    "bins = np.arange(min_score, max_score + 10, 10)\n",
    "observed, _ = np.histogram(data[\"total_score\"], bins=bins)"
   ]
  },
  {
   "cell_type": "markdown",
   "id": "46be3ef3-0516-4004-9995-66f87c2de161",
   "metadata": {},
   "source": [
    "### Расчитаем вероятности попадания в интервалы"
   ]
  },
  {
   "cell_type": "code",
   "execution_count": 7,
   "id": "475d6116-eee9-43d7-a402-fbcfa801b38f",
   "metadata": {},
   "outputs": [],
   "source": [
    "expected = []\n",
    "for i in range(len(bins) - 1):\n",
    "    lower = bins[i]\n",
    "    upper = bins[i + 1]\n",
    "    prob = norm.cdf(upper, loc=mu, scale=sigma) - norm.cdf(lower, loc=mu, scale=sigma)\n",
    "    expected.append(prob * len(data))"
   ]
  },
  {
   "cell_type": "markdown",
   "id": "9967705b-d78f-42ca-837e-8ea12f267369",
   "metadata": {},
   "source": [
    "### Расчет статистики хи-квадрат"
   ]
  },
  {
   "cell_type": "code",
   "execution_count": 21,
   "id": "92548762-6efe-4ccd-93fa-e63db5815345",
   "metadata": {},
   "outputs": [
    {
     "name": "stdout",
     "output_type": "stream",
     "text": [
      "Статистика хи-квадрат: 29.79790075418849\n"
     ]
    }
   ],
   "source": [
    "observed = np.array(observed)\n",
    "expected = np.array(expected)\n",
    "valid_indices = expected >= 5\n",
    "\n",
    "observed_filtered = observed[valid_indices]\n",
    "expected_filtered = expected[valid_indices]\n",
    "\n",
    "total_observed = observed_filtered.sum()\n",
    "total_expected = expected_filtered.sum()\n",
    "expected_filtered = expected_filtered * (total_observed / total_expected)\n",
    "\n",
    "\n",
    "chi_sq = np.sum((observed_filtered - expected_filtered) ** 2 / expected_filtered)\n",
    "print(f\"Статистика хи-квадрат: {chi_sq}\")"
   ]
  },
  {
   "cell_type": "markdown",
   "id": "1a99e712-e28d-49e5-a39a-0e4b513d854a",
   "metadata": {},
   "source": [
    "### Определение степеней свободы\n",
    "$r - l - 1  =  r - 3$, где l = 2 - количество оцененных параметров $(\\mu, \\sigma)$ "
   ]
  },
  {
   "cell_type": "markdown",
   "id": "35ebbb05-8d99-4938-b07e-c1ec79b44726",
   "metadata": {},
   "source": [
    "### Сравнение с критическим значением\n",
    "Для $\\alpha = 0.05$ и df = 18, критическое значение $X_{крит}^2 =  28.9$ "
   ]
  },
  {
   "cell_type": "code",
   "execution_count": 22,
   "id": "63441511-21bb-4b82-a099-32142c2c0f98",
   "metadata": {},
   "outputs": [
    {
     "name": "stdout",
     "output_type": "stream",
     "text": [
      "Критическое значение (α=0.05, df=18): 28.869\n"
     ]
    }
   ],
   "source": [
    "from scipy.stats import chi2\n",
    "alpha = 0.05\n",
    "df =  len(expected_filtered) - 3\n",
    "\n",
    "critical_value = chi2.ppf(1 - alpha, df)\n",
    "print(f\"Критическое значение (α=0.05, df={df}): {critical_value:.3f}\")"
   ]
  },
  {
   "cell_type": "code",
   "execution_count": 19,
   "id": "b1d55462-90b2-4976-b935-2d8b0a1d94e7",
   "metadata": {},
   "outputs": [
    {
     "name": "stdout",
     "output_type": "stream",
     "text": [
      "Статистика хи-квадрат: 29.798\n",
      "P-value: 0.073\n"
     ]
    }
   ],
   "source": [
    "from scipy.stats import chisquare\n",
    "chi_stat, p_value = chisquare(observed_filtered, f_exp=expected_filtered)\n",
    "print(f\"Статистика хи-квадрат: {chi_stat:.3f}\")\n",
    "print(f\"P-value: {p_value:.3f}\")"
   ]
  },
  {
   "cell_type": "markdown",
   "id": "313e333a-e230-4d99-ad4f-dfc3dd03f1f2",
   "metadata": {},
   "source": [
    "### Ответ на задание №1\n",
    "- Статистика хи-квадрат (29.798) > Критическое значение (28.869). Следовательно, отвергаем нулевую гипотезу $H_0$. Распределение суммарного балла не соответствует номальному распределению"
   ]
  },
  {
   "cell_type": "markdown",
   "id": "1b8bb355-e57d-4ef1-89d8-2221c8facc60",
   "metadata": {},
   "source": []
  }
 ],
 "metadata": {
  "kernelspec": {
   "display_name": "Python 3 (ipykernel)",
   "language": "python",
   "name": "python3"
  },
  "language_info": {
   "codemirror_mode": {
    "name": "ipython",
    "version": 3
   },
   "file_extension": ".py",
   "mimetype": "text/x-python",
   "name": "python",
   "nbconvert_exporter": "python",
   "pygments_lexer": "ipython3",
   "version": "3.13.3"
  }
 },
 "nbformat": 4,
 "nbformat_minor": 5
}
